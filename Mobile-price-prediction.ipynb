{
 "cells": [
  {
   "cell_type": "code",
   "execution_count": 1,
   "id": "07230183",
   "metadata": {
    "execution": {
     "iopub.execute_input": "2022-04-22T14:32:10.125441Z",
     "iopub.status.busy": "2022-04-22T14:32:10.124728Z",
     "iopub.status.idle": "2022-04-22T14:32:11.148198Z",
     "shell.execute_reply": "2022-04-22T14:32:11.147387Z"
    },
    "papermill": {
     "duration": 1.059727,
     "end_time": "2022-04-22T14:32:11.150635",
     "exception": false,
     "start_time": "2022-04-22T14:32:10.090908",
     "status": "completed"
    },
    "tags": []
   },
   "outputs": [],
   "source": [
    "import numpy as np\n",
    "import pandas as pd\n",
    "import matplotlib.pyplot as plt\n",
    "import seaborn as sns"
   ]
  },
  {
   "cell_type": "code",
   "execution_count": 2,
   "id": "e138d5c3",
   "metadata": {
    "execution": {
     "iopub.execute_input": "2022-04-22T14:32:11.202361Z",
     "iopub.status.busy": "2022-04-22T14:32:11.202061Z",
     "iopub.status.idle": "2022-04-22T14:32:11.222469Z",
     "shell.execute_reply": "2022-04-22T14:32:11.221798Z"
    },
    "papermill": {
     "duration": 0.049011,
     "end_time": "2022-04-22T14:32:11.224741",
     "exception": false,
     "start_time": "2022-04-22T14:32:11.175730",
     "status": "completed"
    },
    "tags": []
   },
   "outputs": [],
   "source": [
    "df = pd.read_csv(r'C:\\Users\\Admin\\Desktop\\Projects_\\Mobile Price prediction\\Flipkart Mobile - 2.csv')"
   ]
  },
  {
   "cell_type": "code",
   "execution_count": 3,
   "id": "7e7ac717",
   "metadata": {
    "execution": {
     "iopub.execute_input": "2022-04-22T14:32:11.276141Z",
     "iopub.status.busy": "2022-04-22T14:32:11.275600Z",
     "iopub.status.idle": "2022-04-22T14:32:11.301612Z",
     "shell.execute_reply": "2022-04-22T14:32:11.300558Z"
    },
    "papermill": {
     "duration": 0.054117,
     "end_time": "2022-04-22T14:32:11.303776",
     "exception": false,
     "start_time": "2022-04-22T14:32:11.249659",
     "status": "completed"
    },
    "tags": []
   },
   "outputs": [
    {
     "data": {
      "text/html": [
       "<div>\n",
       "<style scoped>\n",
       "    .dataframe tbody tr th:only-of-type {\n",
       "        vertical-align: middle;\n",
       "    }\n",
       "\n",
       "    .dataframe tbody tr th {\n",
       "        vertical-align: top;\n",
       "    }\n",
       "\n",
       "    .dataframe thead th {\n",
       "        text-align: right;\n",
       "    }\n",
       "</style>\n",
       "<table border=\"1\" class=\"dataframe\">\n",
       "  <thead>\n",
       "    <tr style=\"text-align: right;\">\n",
       "      <th></th>\n",
       "      <th>brand</th>\n",
       "      <th>model</th>\n",
       "      <th>base_color</th>\n",
       "      <th>processor</th>\n",
       "      <th>screen_size</th>\n",
       "      <th>ROM</th>\n",
       "      <th>RAM</th>\n",
       "      <th>display_size</th>\n",
       "      <th>num_rear_camera</th>\n",
       "      <th>num_front_camera</th>\n",
       "      <th>battery_capacity</th>\n",
       "      <th>ratings</th>\n",
       "      <th>num_of_ratings</th>\n",
       "      <th>sales_price</th>\n",
       "      <th>discount_percent</th>\n",
       "      <th>sales</th>\n",
       "    </tr>\n",
       "  </thead>\n",
       "  <tbody>\n",
       "    <tr>\n",
       "      <th>0</th>\n",
       "      <td>Apple</td>\n",
       "      <td>iPhone SE</td>\n",
       "      <td>Black</td>\n",
       "      <td>Water</td>\n",
       "      <td>Very Small</td>\n",
       "      <td>64</td>\n",
       "      <td>2</td>\n",
       "      <td>4.7</td>\n",
       "      <td>1</td>\n",
       "      <td>1</td>\n",
       "      <td>1800</td>\n",
       "      <td>4.5</td>\n",
       "      <td>38645</td>\n",
       "      <td>32999</td>\n",
       "      <td>0.17</td>\n",
       "      <td>127.52</td>\n",
       "    </tr>\n",
       "    <tr>\n",
       "      <th>1</th>\n",
       "      <td>Apple</td>\n",
       "      <td>iPhone 12 Mini</td>\n",
       "      <td>Red</td>\n",
       "      <td>Ceramic</td>\n",
       "      <td>Small</td>\n",
       "      <td>64</td>\n",
       "      <td>4</td>\n",
       "      <td>5.4</td>\n",
       "      <td>2</td>\n",
       "      <td>1</td>\n",
       "      <td>2815</td>\n",
       "      <td>4.5</td>\n",
       "      <td>244</td>\n",
       "      <td>57149</td>\n",
       "      <td>0.04</td>\n",
       "      <td>1.39</td>\n",
       "    </tr>\n",
       "    <tr>\n",
       "      <th>2</th>\n",
       "      <td>Apple</td>\n",
       "      <td>iPhone SE</td>\n",
       "      <td>Red</td>\n",
       "      <td>Water</td>\n",
       "      <td>Very Small</td>\n",
       "      <td>64</td>\n",
       "      <td>2</td>\n",
       "      <td>4.7</td>\n",
       "      <td>1</td>\n",
       "      <td>1</td>\n",
       "      <td>1800</td>\n",
       "      <td>4.5</td>\n",
       "      <td>38645</td>\n",
       "      <td>32999</td>\n",
       "      <td>0.17</td>\n",
       "      <td>127.52</td>\n",
       "    </tr>\n",
       "    <tr>\n",
       "      <th>3</th>\n",
       "      <td>Apple</td>\n",
       "      <td>iPhone XR</td>\n",
       "      <td>Others</td>\n",
       "      <td>iOS</td>\n",
       "      <td>Medium</td>\n",
       "      <td>64</td>\n",
       "      <td>3</td>\n",
       "      <td>6.1</td>\n",
       "      <td>1</td>\n",
       "      <td>1</td>\n",
       "      <td>2942</td>\n",
       "      <td>4.6</td>\n",
       "      <td>5366</td>\n",
       "      <td>42999</td>\n",
       "      <td>0.10</td>\n",
       "      <td>23.07</td>\n",
       "    </tr>\n",
       "    <tr>\n",
       "      <th>4</th>\n",
       "      <td>Apple</td>\n",
       "      <td>iPhone 12</td>\n",
       "      <td>Red</td>\n",
       "      <td>Ceramic</td>\n",
       "      <td>Medium</td>\n",
       "      <td>128</td>\n",
       "      <td>4</td>\n",
       "      <td>6.1</td>\n",
       "      <td>2</td>\n",
       "      <td>1</td>\n",
       "      <td>2815</td>\n",
       "      <td>4.6</td>\n",
       "      <td>745</td>\n",
       "      <td>69149</td>\n",
       "      <td>0.02</td>\n",
       "      <td>5.15</td>\n",
       "    </tr>\n",
       "  </tbody>\n",
       "</table>\n",
       "</div>"
      ],
      "text/plain": [
       "   brand           model base_color processor screen_size  ROM  RAM  \\\n",
       "0  Apple       iPhone SE      Black     Water  Very Small   64    2   \n",
       "1  Apple  iPhone 12 Mini        Red   Ceramic       Small   64    4   \n",
       "2  Apple       iPhone SE        Red     Water  Very Small   64    2   \n",
       "3  Apple       iPhone XR     Others       iOS      Medium   64    3   \n",
       "4  Apple       iPhone 12        Red   Ceramic      Medium  128    4   \n",
       "\n",
       "   display_size  num_rear_camera  num_front_camera  battery_capacity  ratings  \\\n",
       "0           4.7                1                 1              1800      4.5   \n",
       "1           5.4                2                 1              2815      4.5   \n",
       "2           4.7                1                 1              1800      4.5   \n",
       "3           6.1                1                 1              2942      4.6   \n",
       "4           6.1                2                 1              2815      4.6   \n",
       "\n",
       "   num_of_ratings  sales_price  discount_percent   sales  \n",
       "0           38645        32999              0.17  127.52  \n",
       "1             244        57149              0.04    1.39  \n",
       "2           38645        32999              0.17  127.52  \n",
       "3            5366        42999              0.10   23.07  \n",
       "4             745        69149              0.02    5.15  "
      ]
     },
     "execution_count": 3,
     "metadata": {},
     "output_type": "execute_result"
    }
   ],
   "source": [
    "df.head(5)"
   ]
  },
  {
   "cell_type": "code",
   "execution_count": 4,
   "id": "6b375917",
   "metadata": {
    "execution": {
     "iopub.execute_input": "2022-04-22T14:32:11.356961Z",
     "iopub.status.busy": "2022-04-22T14:32:11.356402Z",
     "iopub.status.idle": "2022-04-22T14:32:11.366530Z",
     "shell.execute_reply": "2022-04-22T14:32:11.365888Z"
    },
    "papermill": {
     "duration": 0.038936,
     "end_time": "2022-04-22T14:32:11.368695",
     "exception": false,
     "start_time": "2022-04-22T14:32:11.329759",
     "status": "completed"
    },
    "tags": []
   },
   "outputs": [],
   "source": [
    "df=df.drop(columns=['model','base_color','num_of_ratings','discount_percent','sales'])"
   ]
  },
  {
   "cell_type": "code",
   "execution_count": 5,
   "id": "17260b42",
   "metadata": {
    "execution": {
     "iopub.execute_input": "2022-04-22T14:32:11.421201Z",
     "iopub.status.busy": "2022-04-22T14:32:11.420730Z",
     "iopub.status.idle": "2022-04-22T14:32:11.439308Z",
     "shell.execute_reply": "2022-04-22T14:32:11.438457Z"
    },
    "papermill": {
     "duration": 0.047167,
     "end_time": "2022-04-22T14:32:11.441386",
     "exception": false,
     "start_time": "2022-04-22T14:32:11.394219",
     "status": "completed"
    },
    "tags": []
   },
   "outputs": [
    {
     "name": "stdout",
     "output_type": "stream",
     "text": [
      "<class 'pandas.core.frame.DataFrame'>\n",
      "RangeIndex: 430 entries, 0 to 429\n",
      "Data columns (total 11 columns):\n",
      " #   Column            Non-Null Count  Dtype  \n",
      "---  ------            --------------  -----  \n",
      " 0   brand             430 non-null    object \n",
      " 1   processor         430 non-null    object \n",
      " 2   screen_size       430 non-null    object \n",
      " 3   ROM               430 non-null    int64  \n",
      " 4   RAM               430 non-null    int64  \n",
      " 5   display_size      430 non-null    float64\n",
      " 6   num_rear_camera   430 non-null    int64  \n",
      " 7   num_front_camera  430 non-null    int64  \n",
      " 8   battery_capacity  430 non-null    int64  \n",
      " 9   ratings           430 non-null    float64\n",
      " 10  sales_price       430 non-null    int64  \n",
      "dtypes: float64(2), int64(6), object(3)\n",
      "memory usage: 37.1+ KB\n"
     ]
    }
   ],
   "source": [
    "df.info()"
   ]
  },
  {
   "cell_type": "code",
   "execution_count": 6,
   "id": "eed5308c",
   "metadata": {
    "execution": {
     "iopub.execute_input": "2022-04-22T14:32:11.495062Z",
     "iopub.status.busy": "2022-04-22T14:32:11.494775Z",
     "iopub.status.idle": "2022-04-22T14:32:11.506230Z",
     "shell.execute_reply": "2022-04-22T14:32:11.504980Z"
    },
    "papermill": {
     "duration": 0.040557,
     "end_time": "2022-04-22T14:32:11.508338",
     "exception": false,
     "start_time": "2022-04-22T14:32:11.467781",
     "status": "completed"
    },
    "tags": []
   },
   "outputs": [
    {
     "name": "stdout",
     "output_type": "stream",
     "text": [
      "Shape of Training dataset: (430, 11)\n"
     ]
    },
    {
     "data": {
      "text/plain": [
       "brand               0\n",
       "processor           0\n",
       "screen_size         0\n",
       "ROM                 0\n",
       "RAM                 0\n",
       "display_size        0\n",
       "num_rear_camera     0\n",
       "num_front_camera    0\n",
       "battery_capacity    0\n",
       "ratings             0\n",
       "sales_price         0\n",
       "dtype: int64"
      ]
     },
     "execution_count": 6,
     "metadata": {},
     "output_type": "execute_result"
    }
   ],
   "source": [
    "# Shape of the Dataset\n",
    "print(\"Shape of Training dataset:\", df.shape)\n",
    "\n",
    "# Checking null values for training dataset\n",
    "df.isnull().sum()"
   ]
  },
  {
   "cell_type": "code",
   "execution_count": 7,
   "id": "304ec4cb",
   "metadata": {
    "execution": {
     "iopub.execute_input": "2022-04-22T14:32:11.562772Z",
     "iopub.status.busy": "2022-04-22T14:32:11.562283Z",
     "iopub.status.idle": "2022-04-22T14:32:11.568546Z",
     "shell.execute_reply": "2022-04-22T14:32:11.567809Z"
    },
    "papermill": {
     "duration": 0.035619,
     "end_time": "2022-04-22T14:32:11.570393",
     "exception": false,
     "start_time": "2022-04-22T14:32:11.534774",
     "status": "completed"
    },
    "tags": []
   },
   "outputs": [
    {
     "data": {
      "text/plain": [
       "brand                object\n",
       "processor            object\n",
       "screen_size          object\n",
       "ROM                   int64\n",
       "RAM                   int64\n",
       "display_size        float64\n",
       "num_rear_camera       int64\n",
       "num_front_camera      int64\n",
       "battery_capacity      int64\n",
       "ratings             float64\n",
       "sales_price           int64\n",
       "dtype: object"
      ]
     },
     "execution_count": 7,
     "metadata": {},
     "output_type": "execute_result"
    }
   ],
   "source": [
    "df.dtypes"
   ]
  },
  {
   "cell_type": "code",
   "execution_count": 8,
   "id": "ddc538bb",
   "metadata": {
    "execution": {
     "iopub.execute_input": "2022-04-22T14:32:11.626541Z",
     "iopub.status.busy": "2022-04-22T14:32:11.626071Z",
     "iopub.status.idle": "2022-04-22T14:32:11.663568Z",
     "shell.execute_reply": "2022-04-22T14:32:11.662961Z"
    },
    "papermill": {
     "duration": 0.068555,
     "end_time": "2022-04-22T14:32:11.665749",
     "exception": false,
     "start_time": "2022-04-22T14:32:11.597194",
     "status": "completed"
    },
    "tags": []
   },
   "outputs": [
    {
     "data": {
      "text/html": [
       "<div>\n",
       "<style scoped>\n",
       "    .dataframe tbody tr th:only-of-type {\n",
       "        vertical-align: middle;\n",
       "    }\n",
       "\n",
       "    .dataframe tbody tr th {\n",
       "        vertical-align: top;\n",
       "    }\n",
       "\n",
       "    .dataframe thead th {\n",
       "        text-align: right;\n",
       "    }\n",
       "</style>\n",
       "<table border=\"1\" class=\"dataframe\">\n",
       "  <thead>\n",
       "    <tr style=\"text-align: right;\">\n",
       "      <th></th>\n",
       "      <th>ROM</th>\n",
       "      <th>RAM</th>\n",
       "      <th>display_size</th>\n",
       "      <th>num_rear_camera</th>\n",
       "      <th>num_front_camera</th>\n",
       "      <th>battery_capacity</th>\n",
       "      <th>ratings</th>\n",
       "      <th>sales_price</th>\n",
       "    </tr>\n",
       "  </thead>\n",
       "  <tbody>\n",
       "    <tr>\n",
       "      <th>count</th>\n",
       "      <td>430.000000</td>\n",
       "      <td>430.000000</td>\n",
       "      <td>430.000000</td>\n",
       "      <td>430.000000</td>\n",
       "      <td>430.000000</td>\n",
       "      <td>430.000000</td>\n",
       "      <td>430.000000</td>\n",
       "      <td>430.000000</td>\n",
       "    </tr>\n",
       "    <tr>\n",
       "      <th>mean</th>\n",
       "      <td>105.748837</td>\n",
       "      <td>5.320930</td>\n",
       "      <td>6.369767</td>\n",
       "      <td>2.904651</td>\n",
       "      <td>1.044186</td>\n",
       "      <td>4529.397674</td>\n",
       "      <td>4.339302</td>\n",
       "      <td>25433.234884</td>\n",
       "    </tr>\n",
       "    <tr>\n",
       "      <th>std</th>\n",
       "      <td>63.164064</td>\n",
       "      <td>2.182635</td>\n",
       "      <td>0.369549</td>\n",
       "      <td>0.952350</td>\n",
       "      <td>0.227280</td>\n",
       "      <td>986.907252</td>\n",
       "      <td>0.151494</td>\n",
       "      <td>22471.926588</td>\n",
       "    </tr>\n",
       "    <tr>\n",
       "      <th>min</th>\n",
       "      <td>8.000000</td>\n",
       "      <td>1.000000</td>\n",
       "      <td>4.700000</td>\n",
       "      <td>1.000000</td>\n",
       "      <td>1.000000</td>\n",
       "      <td>1800.000000</td>\n",
       "      <td>3.000000</td>\n",
       "      <td>5742.000000</td>\n",
       "    </tr>\n",
       "    <tr>\n",
       "      <th>25%</th>\n",
       "      <td>64.000000</td>\n",
       "      <td>4.000000</td>\n",
       "      <td>6.300000</td>\n",
       "      <td>2.000000</td>\n",
       "      <td>1.000000</td>\n",
       "      <td>4000.000000</td>\n",
       "      <td>4.300000</td>\n",
       "      <td>11999.000000</td>\n",
       "    </tr>\n",
       "    <tr>\n",
       "      <th>50%</th>\n",
       "      <td>128.000000</td>\n",
       "      <td>4.000000</td>\n",
       "      <td>6.500000</td>\n",
       "      <td>3.000000</td>\n",
       "      <td>1.000000</td>\n",
       "      <td>4500.000000</td>\n",
       "      <td>4.300000</td>\n",
       "      <td>16989.500000</td>\n",
       "    </tr>\n",
       "    <tr>\n",
       "      <th>75%</th>\n",
       "      <td>128.000000</td>\n",
       "      <td>6.000000</td>\n",
       "      <td>6.500000</td>\n",
       "      <td>4.000000</td>\n",
       "      <td>1.000000</td>\n",
       "      <td>5000.000000</td>\n",
       "      <td>4.400000</td>\n",
       "      <td>28999.000000</td>\n",
       "    </tr>\n",
       "    <tr>\n",
       "      <th>max</th>\n",
       "      <td>512.000000</td>\n",
       "      <td>12.000000</td>\n",
       "      <td>7.600000</td>\n",
       "      <td>4.000000</td>\n",
       "      <td>3.000000</td>\n",
       "      <td>7000.000000</td>\n",
       "      <td>4.600000</td>\n",
       "      <td>157999.000000</td>\n",
       "    </tr>\n",
       "  </tbody>\n",
       "</table>\n",
       "</div>"
      ],
      "text/plain": [
       "              ROM         RAM  display_size  num_rear_camera  \\\n",
       "count  430.000000  430.000000    430.000000       430.000000   \n",
       "mean   105.748837    5.320930      6.369767         2.904651   \n",
       "std     63.164064    2.182635      0.369549         0.952350   \n",
       "min      8.000000    1.000000      4.700000         1.000000   \n",
       "25%     64.000000    4.000000      6.300000         2.000000   \n",
       "50%    128.000000    4.000000      6.500000         3.000000   \n",
       "75%    128.000000    6.000000      6.500000         4.000000   \n",
       "max    512.000000   12.000000      7.600000         4.000000   \n",
       "\n",
       "       num_front_camera  battery_capacity     ratings    sales_price  \n",
       "count        430.000000        430.000000  430.000000     430.000000  \n",
       "mean           1.044186       4529.397674    4.339302   25433.234884  \n",
       "std            0.227280        986.907252    0.151494   22471.926588  \n",
       "min            1.000000       1800.000000    3.000000    5742.000000  \n",
       "25%            1.000000       4000.000000    4.300000   11999.000000  \n",
       "50%            1.000000       4500.000000    4.300000   16989.500000  \n",
       "75%            1.000000       5000.000000    4.400000   28999.000000  \n",
       "max            3.000000       7000.000000    4.600000  157999.000000  "
      ]
     },
     "execution_count": 8,
     "metadata": {},
     "output_type": "execute_result"
    }
   ],
   "source": [
    "df.describe()"
   ]
  },
  {
   "cell_type": "code",
   "execution_count": 9,
   "id": "248e861a",
   "metadata": {
    "execution": {
     "iopub.execute_input": "2022-04-22T14:32:11.724555Z",
     "iopub.status.busy": "2022-04-22T14:32:11.724020Z",
     "iopub.status.idle": "2022-04-22T14:32:11.732170Z",
     "shell.execute_reply": "2022-04-22T14:32:11.731474Z"
    },
    "papermill": {
     "duration": 0.039089,
     "end_time": "2022-04-22T14:32:11.734053",
     "exception": false,
     "start_time": "2022-04-22T14:32:11.694964",
     "status": "completed"
    },
    "tags": []
   },
   "outputs": [
    {
     "data": {
      "text/plain": [
       "(8, 8)"
      ]
     },
     "execution_count": 9,
     "metadata": {},
     "output_type": "execute_result"
    }
   ],
   "source": [
    "# Finding out the correlation between the features\n",
    "corr = df.corr()\n",
    "corr.shape"
   ]
  },
  {
   "cell_type": "code",
   "execution_count": 10,
   "id": "38ef60de",
   "metadata": {
    "execution": {
     "iopub.execute_input": "2022-04-22T14:32:11.791627Z",
     "iopub.status.busy": "2022-04-22T14:32:11.791094Z",
     "iopub.status.idle": "2022-04-22T14:32:12.421218Z",
     "shell.execute_reply": "2022-04-22T14:32:12.420308Z"
    },
    "papermill": {
     "duration": 0.662576,
     "end_time": "2022-04-22T14:32:12.424308",
     "exception": false,
     "start_time": "2022-04-22T14:32:11.761732",
     "status": "completed"
    },
    "tags": []
   },
   "outputs": [
    {
     "data": {
      "text/plain": [
       "<AxesSubplot:>"
      ]
     },
     "execution_count": 10,
     "metadata": {},
     "output_type": "execute_result"
    },
    {
     "data": {
      "image/png": "[encoded data removed]",
      "text/plain": [
       "<Figure size 1008x1008 with 1 Axes>"
      ]
     },
     "metadata": {
      "needs_background": "light"
     },
     "output_type": "display_data"
    }
   ],
   "source": [
    "# Plotting the heatmap of correlation between features\n",
    "plt.figure(figsize=(14,14))\n",
    "sns.heatmap(corr, cbar=False, square= True, fmt='.2%', annot=True, cmap='Greens')"
   ]
  },
  {
   "cell_type": "code",
   "execution_count": 11,
   "id": "dfb30af6",
   "metadata": {
    "execution": {
     "iopub.execute_input": "2022-04-22T14:32:12.488247Z",
     "iopub.status.busy": "2022-04-22T14:32:12.487658Z",
     "iopub.status.idle": "2022-04-22T14:32:12.689909Z",
     "shell.execute_reply": "2022-04-22T14:32:12.689084Z"
    },
    "papermill": {
     "duration": 0.236927,
     "end_time": "2022-04-22T14:32:12.692054",
     "exception": false,
     "start_time": "2022-04-22T14:32:12.455127",
     "status": "completed"
    },
    "tags": []
   },
   "outputs": [
    {
     "data": {
      "text/plain": [
       "<AxesSubplot:>"
      ]
     },
     "execution_count": 11,
     "metadata": {},
     "output_type": "execute_result"
    },
    {
     "data": {
      "image/png": "[encoded data removed]",
      "text/plain": [
       "<Figure size 432x288 with 1 Axes>"
      ]
     },
     "metadata": {
      "needs_background": "light"
     },
     "output_type": "display_data"
    }
   ],
   "source": [
    "# Checking the null values using heatmap\n",
    "# There is any null values are occupyed here\n",
    "sns.heatmap(df.isnull(),yticklabels=False,cbar=False,cmap='viridis')"
   ]
  },
  {
   "cell_type": "code",
   "execution_count": 12,
   "id": "afbd21df",
   "metadata": {
    "execution": {
     "iopub.execute_input": "2022-04-22T14:32:12.759506Z",
     "iopub.status.busy": "2022-04-22T14:32:12.758700Z",
     "iopub.status.idle": "2022-04-22T14:32:12.765538Z",
     "shell.execute_reply": "2022-04-22T14:32:12.764509Z"
    },
    "papermill": {
     "duration": 0.043362,
     "end_time": "2022-04-22T14:32:12.767738",
     "exception": false,
     "start_time": "2022-04-22T14:32:12.724376",
     "status": "completed"
    },
    "tags": []
   },
   "outputs": [],
   "source": [
    "X = df.drop(columns=['sales_price'])\n",
    "y = np.log(df['sales_price'])"
   ]
  },
  {
   "cell_type": "code",
   "execution_count": 13,
   "id": "1207fad9",
   "metadata": {
    "execution": {
     "iopub.execute_input": "2022-04-22T14:32:12.834278Z",
     "iopub.status.busy": "2022-04-22T14:32:12.833559Z",
     "iopub.status.idle": "2022-04-22T14:32:13.025721Z",
     "shell.execute_reply": "2022-04-22T14:32:13.024914Z"
    },
    "papermill": {
     "duration": 0.228077,
     "end_time": "2022-04-22T14:32:13.028179",
     "exception": false,
     "start_time": "2022-04-22T14:32:12.800102",
     "status": "completed"
    },
    "tags": []
   },
   "outputs": [],
   "source": [
    "from sklearn.model_selection import train_test_split\n",
    "X_train,X_test,y_train,y_test = train_test_split(X,y,test_size=0.15,random_state=2)"
   ]
  },
  {
   "cell_type": "code",
   "execution_count": 14,
   "id": "007c0d52",
   "metadata": {
    "execution": {
     "iopub.execute_input": "2022-04-22T14:32:13.094207Z",
     "iopub.status.busy": "2022-04-22T14:32:13.093953Z",
     "iopub.status.idle": "2022-04-22T14:32:13.306804Z",
     "shell.execute_reply": "2022-04-22T14:32:13.305637Z"
    },
    "papermill": {
     "duration": 0.249006,
     "end_time": "2022-04-22T14:32:13.309375",
     "exception": false,
     "start_time": "2022-04-22T14:32:13.060369",
     "status": "completed"
    },
    "tags": []
   },
   "outputs": [],
   "source": [
    "from sklearn.compose import ColumnTransformer\n",
    "from sklearn.pipeline import Pipeline\n",
    "from sklearn.preprocessing import OneHotEncoder\n",
    "from sklearn.metrics import r2_score,mean_absolute_error\n",
    "\n",
    "from sklearn.neighbors import KNeighborsRegressor\n",
    "from sklearn.tree import DecisionTreeRegressor\n",
    "from sklearn.ensemble import RandomForestRegressor\n",
    "from sklearn.linear_model import LinearRegression,Ridge,Lasso"
   ]
  },
  {
   "cell_type": "code",
   "execution_count": 15,
   "id": "3fc9c10d",
   "metadata": {
    "execution": {
     "iopub.execute_input": "2022-04-22T14:32:13.376799Z",
     "iopub.status.busy": "2022-04-22T14:32:13.376520Z",
     "iopub.status.idle": "2022-04-22T14:32:13.414232Z",
     "shell.execute_reply": "2022-04-22T14:32:13.413470Z"
    },
    "papermill": {
     "duration": 0.074498,
     "end_time": "2022-04-22T14:32:13.416195",
     "exception": false,
     "start_time": "2022-04-22T14:32:13.341697",
     "status": "completed"
    },
    "tags": []
   },
   "outputs": [
    {
     "name": "stdout",
     "output_type": "stream",
     "text": [
      "R2 score 0.9154641880283786\n",
      "MAE 0.1489837708238656\n"
     ]
    }
   ],
   "source": [
    "step1 = ColumnTransformer(transformers=[\n",
    "    ('col_tnf',OneHotEncoder(sparse=False,drop='first'),[0,1,2])\n",
    "],remainder='passthrough')\n",
    "\n",
    "step2 = LinearRegression()\n",
    "\n",
    "pipe = Pipeline([\n",
    "    ('step1',step1),\n",
    "    ('step2',step2)\n",
    "])\n",
    "\n",
    "pipe.fit(X_train,y_train)\n",
    "\n",
    "y_pred = pipe.predict(X_test)\n",
    "\n",
    "print('R2 score',r2_score(y_test,y_pred))\n",
    "print('MAE',mean_absolute_error(y_test,y_pred))"
   ]
  },
  {
   "cell_type": "code",
   "execution_count": 16,
   "id": "5f48b11b",
   "metadata": {
    "execution": {
     "iopub.execute_input": "2022-04-22T14:32:13.483606Z",
     "iopub.status.busy": "2022-04-22T14:32:13.483045Z",
     "iopub.status.idle": "2022-04-22T14:32:13.503408Z",
     "shell.execute_reply": "2022-04-22T14:32:13.501889Z"
    },
    "papermill": {
     "duration": 0.056614,
     "end_time": "2022-04-22T14:32:13.505607",
     "exception": false,
     "start_time": "2022-04-22T14:32:13.448993",
     "status": "completed"
    },
    "tags": []
   },
   "outputs": [
    {
     "name": "stdout",
     "output_type": "stream",
     "text": [
      "R2 score 0.8615695524100441\n",
      "MAE 0.19310148194515675\n"
     ]
    }
   ],
   "source": [
    "step1 = ColumnTransformer(transformers=[\n",
    "    ('col_tnf',OneHotEncoder(sparse=False,drop='first'),[0,1,2])\n",
    "],remainder='passthrough')\n",
    "\n",
    "step2 = Ridge(alpha=10)\n",
    "\n",
    "pipe = Pipeline([\n",
    "    ('step1',step1),\n",
    "    ('step2',step2)\n",
    "])\n",
    "\n",
    "pipe.fit(X_train,y_train)\n",
    "\n",
    "y_pred = pipe.predict(X_test)\n",
    "\n",
    "print('R2 score',r2_score(y_test,y_pred))\n",
    "print('MAE',mean_absolute_error(y_test,y_pred))"
   ]
  },
  {
   "cell_type": "code",
   "execution_count": 17,
   "id": "eb0db3bd",
   "metadata": {
    "execution": {
     "iopub.execute_input": "2022-04-22T14:32:13.573632Z",
     "iopub.status.busy": "2022-04-22T14:32:13.572826Z",
     "iopub.status.idle": "2022-04-22T14:32:13.593138Z",
     "shell.execute_reply": "2022-04-22T14:32:13.592605Z"
    },
    "papermill": {
     "duration": 0.058423,
     "end_time": "2022-04-22T14:32:13.597118",
     "exception": false,
     "start_time": "2022-04-22T14:32:13.538695",
     "status": "completed"
    },
    "tags": []
   },
   "outputs": [
    {
     "name": "stdout",
     "output_type": "stream",
     "text": [
      "R2 score 0.9050994012221464\n",
      "MAE 0.16292184003160065\n"
     ]
    }
   ],
   "source": [
    "step1 = ColumnTransformer(transformers=[\n",
    "    ('col_tnf',OneHotEncoder(sparse=False,drop='first'),[0,1,2])\n",
    "],remainder='passthrough')\n",
    "\n",
    "step2 = Lasso(alpha=0.001)\n",
    "\n",
    "pipe = Pipeline([\n",
    "    ('step1',step1),\n",
    "    ('step2',step2)\n",
    "])\n",
    "\n",
    "pipe.fit(X_train,y_train)\n",
    "\n",
    "y_pred = pipe.predict(X_test)\n",
    "\n",
    "print('R2 score',r2_score(y_test,y_pred))\n",
    "print('MAE',mean_absolute_error(y_test,y_pred))"
   ]
  },
  {
   "cell_type": "code",
   "execution_count": 18,
   "id": "ff65bd77",
   "metadata": {
    "execution": {
     "iopub.execute_input": "2022-04-22T14:32:13.666891Z",
     "iopub.status.busy": "2022-04-22T14:32:13.666001Z",
     "iopub.status.idle": "2022-04-22T14:32:13.687921Z",
     "shell.execute_reply": "2022-04-22T14:32:13.687089Z"
    },
    "papermill": {
     "duration": 0.059721,
     "end_time": "2022-04-22T14:32:13.691135",
     "exception": false,
     "start_time": "2022-04-22T14:32:13.631414",
     "status": "completed"
    },
    "tags": []
   },
   "outputs": [
    {
     "name": "stdout",
     "output_type": "stream",
     "text": [
      "R2 score 0.9160505751790627\n",
      "MAE 0.11916448903955199\n"
     ]
    }
   ],
   "source": [
    "step1 = ColumnTransformer(transformers=[\n",
    "    ('col_tnf',OneHotEncoder(sparse=False,drop='first'),[0,1,2])\n",
    "],remainder='passthrough')\n",
    "\n",
    "step2 = KNeighborsRegressor(n_neighbors=3)\n",
    "\n",
    "pipe = Pipeline([\n",
    "    ('step1',step1),\n",
    "    ('step2',step2)\n",
    "])\n",
    "\n",
    "pipe.fit(X_train,y_train)\n",
    "\n",
    "y_pred = pipe.predict(X_test)\n",
    "\n",
    "print('R2 score',r2_score(y_test,y_pred))\n",
    "print('MAE',mean_absolute_error(y_test,y_pred))"
   ]
  },
  {
   "cell_type": "code",
   "execution_count": 19,
   "id": "ba69d50d",
   "metadata": {
    "execution": {
     "iopub.execute_input": "2022-04-22T14:32:13.812743Z",
     "iopub.status.busy": "2022-04-22T14:32:13.812434Z",
     "iopub.status.idle": "2022-04-22T14:32:13.835082Z",
     "shell.execute_reply": "2022-04-22T14:32:13.833874Z"
    },
    "papermill": {
     "duration": 0.083504,
     "end_time": "2022-04-22T14:32:13.837521",
     "exception": false,
     "start_time": "2022-04-22T14:32:13.754017",
     "status": "completed"
    },
    "tags": []
   },
   "outputs": [
    {
     "name": "stdout",
     "output_type": "stream",
     "text": [
      "R2 score 0.9157487873179229\n",
      "MAE 0.10690468662103034\n"
     ]
    }
   ],
   "source": [
    "step1 = ColumnTransformer(transformers=[\n",
    "    ('col_tnf',OneHotEncoder(sparse=False,drop='first'),[0,1,2])\n",
    "],remainder='passthrough')\n",
    "\n",
    "step2 = DecisionTreeRegressor(max_depth=8)\n",
    "\n",
    "pipe = Pipeline([\n",
    "    ('step1',step1),\n",
    "    ('step2',step2)\n",
    "])\n",
    "\n",
    "pipe.fit(X_train,y_train)\n",
    "\n",
    "y_pred = pipe.predict(X_test)\n",
    "\n",
    "print('R2 score',r2_score(y_test,y_pred))\n",
    "print('MAE',mean_absolute_error(y_test,y_pred))"
   ]
  },
  {
   "cell_type": "code",
   "execution_count": 20,
   "id": "5748c8b7",
   "metadata": {
    "execution": {
     "iopub.execute_input": "2022-04-22T14:32:13.909113Z",
     "iopub.status.busy": "2022-04-22T14:32:13.908600Z",
     "iopub.status.idle": "2022-04-22T14:32:14.117631Z",
     "shell.execute_reply": "2022-04-22T14:32:14.116640Z"
    },
    "papermill": {
     "duration": 0.247949,
     "end_time": "2022-04-22T14:32:14.120229",
     "exception": false,
     "start_time": "2022-04-22T14:32:13.872280",
     "status": "completed"
    },
    "tags": []
   },
   "outputs": [
    {
     "name": "stdout",
     "output_type": "stream",
     "text": [
      "R2 score 0.956731335069666\n",
      "MAE 0.09897444279350985\n"
     ]
    }
   ],
   "source": [
    "step1 = ColumnTransformer(transformers=[\n",
    "    ('col_tnf',OneHotEncoder(sparse=False,drop='first'),[0,1,2])\n",
    "],remainder='passthrough')\n",
    "\n",
    "step2 = RandomForestRegressor(n_estimators=100,\n",
    "                              random_state=3,\n",
    "                              max_samples=0.5,\n",
    "                              max_features=0.75,\n",
    "                              max_depth=15)\n",
    "\n",
    "pipe2 = Pipeline([\n",
    "    ('step1',step1),\n",
    "    ('step2',step2)\n",
    "])\n",
    "\n",
    "pipe2.fit(X_train,y_train)\n",
    "\n",
    "y_pred = pipe2.predict(X_test)\n",
    "\n",
    "print('R2 score',r2_score(y_test,y_pred))\n",
    "print('MAE',mean_absolute_error(y_test,y_pred))"
   ]
  },
  {
   "cell_type": "code",
   "execution_count": 21,
   "id": "f8494a92",
   "metadata": {
    "execution": {
     "iopub.execute_input": "2022-04-22T14:32:14.191755Z",
     "iopub.status.busy": "2022-04-22T14:32:14.191070Z",
     "iopub.status.idle": "2022-04-22T14:32:14.204987Z",
     "shell.execute_reply": "2022-04-22T14:32:14.204215Z"
    },
    "papermill": {
     "duration": 0.052211,
     "end_time": "2022-04-22T14:32:14.207178",
     "exception": false,
     "start_time": "2022-04-22T14:32:14.154967",
     "status": "completed"
    },
    "tags": []
   },
   "outputs": [],
   "source": [
    "import pickle\n",
    "\n",
    "#pickle.dump(df,open('df.pkl','wb'))\n",
    "pickle.dump(pipe2,open('pipe2.pkl','wb'))"
   ]
  },
  {
   "cell_type": "code",
   "execution_count": null,
   "id": "50f01fc2",
   "metadata": {
    "papermill": {
     "duration": 0.034164,
     "end_time": "2022-04-22T14:32:14.276410",
     "exception": false,
     "start_time": "2022-04-22T14:32:14.242246",
     "status": "completed"
    },
    "tags": []
   },
   "outputs": [],
   "source": []
  },
  {
   "cell_type": "code",
   "execution_count": null,
   "id": "5a279712",
   "metadata": {
    "papermill": {
     "duration": 0.034378,
     "end_time": "2022-04-22T14:32:14.345289",
     "exception": false,
     "start_time": "2022-04-22T14:32:14.310911",
     "status": "completed"
    },
    "tags": []
   },
   "outputs": [],
   "source": []
  },
  {
   "cell_type": "code",
   "execution_count": null,
   "id": "be2c47c4",
   "metadata": {
    "papermill": {
     "duration": 0.033916,
     "end_time": "2022-04-22T14:32:14.413435",
     "exception": false,
     "start_time": "2022-04-22T14:32:14.379519",
     "status": "completed"
    },
    "tags": []
   },
   "outputs": [],
   "source": []
  },
  {
   "cell_type": "code",
   "execution_count": null,
   "id": "b9f742d9",
   "metadata": {
    "papermill": {
     "duration": 0.033853,
     "end_time": "2022-04-22T14:32:14.481646",
     "exception": false,
     "start_time": "2022-04-22T14:32:14.447793",
     "status": "completed"
    },
    "tags": []
   },
   "outputs": [],
   "source": []
  }
 ],
 "metadata": {
  "kernelspec": {
   "display_name": "Python 3 (ipykernel)",
   "language": "python",
   "name": "python3"
  },
  "language_info": {
   "codemirror_mode": {
    "name": "ipython",
    "version": 3
   },
   "file_extension": ".py",
   "mimetype": "text/x-python",
   "name": "python",
   "nbconvert_exporter": "python",
   "pygments_lexer": "ipython3",
   "version": "3.9.7"
  },
  "papermill": {
   "default_parameters": {},
   "duration": 14.644016,
   "end_time": "2022-04-22T14:32:15.237377",
   "environment_variables": {},
   "exception": null,
   "input_path": "__notebook__.ipynb",
   "output_path": "__notebook__.ipynb",
   "parameters": {},
   "start_time": "2022-04-22T14:32:00.593361",
   "version": "2.3.4"
  }
 },
 "nbformat": 4,
 "nbformat_minor": 5
}
